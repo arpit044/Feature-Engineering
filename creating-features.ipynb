{
 "cells": [
  {
   "cell_type": "markdown",
   "id": "monthly-beauty",
   "metadata": {
    "papermill": {
     "duration": 0.016245,
     "end_time": "2021-05-14T12:53:11.111487",
     "exception": false,
     "start_time": "2021-05-14T12:53:11.095242",
     "status": "completed"
    },
    "tags": []
   },
   "source": [
    "**This notebook is an exercise in the [Feature Engineering](https://www.kaggle.com/learn/feature-engineering) course.  You can reference the tutorial at [this link](https://www.kaggle.com/ryanholbrook/creating-features).**\n",
    "\n",
    "---\n"
   ]
  },
  {
   "cell_type": "markdown",
   "id": "baking-perspective",
   "metadata": {
    "papermill": {
     "duration": 0.014512,
     "end_time": "2021-05-14T12:53:11.141375",
     "exception": false,
     "start_time": "2021-05-14T12:53:11.126863",
     "status": "completed"
    },
    "tags": []
   },
   "source": [
    "# Introduction #\n",
    "\n",
    "In this exercise you'll start developing the features you identified in Exercise 2 as having the most potential. As you work through this exercise, you might take a moment to look at the data documentation again and consider whether the features we're creating make sense from a real-world perspective, and whether there are any useful combinations that stand out to you.\n",
    "\n",
    "Run this cell to set everything up!"
   ]
  },
  {
   "cell_type": "code",
   "execution_count": 1,
   "id": "worst-welcome",
   "metadata": {
    "execution": {
     "iopub.execute_input": "2021-05-14T12:53:11.181158Z",
     "iopub.status.busy": "2021-05-14T12:53:11.180462Z",
     "iopub.status.idle": "2021-05-14T12:53:12.815550Z",
     "shell.execute_reply": "2021-05-14T12:53:12.814787Z"
    },
    "papermill": {
     "duration": 1.659317,
     "end_time": "2021-05-14T12:53:12.815743",
     "exception": false,
     "start_time": "2021-05-14T12:53:11.156426",
     "status": "completed"
    },
    "tags": []
   },
   "outputs": [],
   "source": [
    "# Setup feedback system\n",
    "from learntools.core import binder\n",
    "binder.bind(globals())\n",
    "from learntools.feature_engineering_new.ex3 import *\n",
    "\n",
    "import numpy as np\n",
    "import pandas as pd\n",
    "from sklearn.model_selection import cross_val_score\n",
    "from xgboost import XGBRegressor\n",
    "\n",
    "\n",
    "def score_dataset(X, y, model=XGBRegressor()):\n",
    "    # Label encoding for categoricals\n",
    "    for colname in X.select_dtypes([\"category\", \"object\"]):\n",
    "        X[colname], _ = X[colname].factorize()\n",
    "    # Metric for Housing competition is RMSLE (Root Mean Squared Log Error)\n",
    "    score = cross_val_score(\n",
    "        model, X, y, cv=5, scoring=\"neg_mean_squared_log_error\",\n",
    "    )\n",
    "    score = -1 * score.mean()\n",
    "    score = np.sqrt(score)\n",
    "    return score\n",
    "\n",
    "\n",
    "# Prepare data\n",
    "df = pd.read_csv(\"../input/fe-course-data/ames.csv\")\n",
    "X = df.copy()\n",
    "y = X.pop(\"SalePrice\")"
   ]
  },
  {
   "cell_type": "markdown",
   "id": "listed-oasis",
   "metadata": {
    "papermill": {
     "duration": 0.014799,
     "end_time": "2021-05-14T12:53:12.846524",
     "exception": false,
     "start_time": "2021-05-14T12:53:12.831725",
     "status": "completed"
    },
    "tags": []
   },
   "source": [
    "-------------------------------------------------------------------------------\n",
    "\n",
    "Let's start with a few mathematical combinations. We'll focus on features describing areas -- having the same units (square-feet) makes it easy to combine them in sensible ways. Since we're using XGBoost (a tree-based model), we'll focus on ratios and sums.\n",
    "\n",
    "# 1) Create Mathematical Transforms\n",
    "\n",
    "Create the following features:\n",
    "\n",
    "- `LivLotRatio`: the ratio of `GrLivArea` to `LotArea`\n",
    "- `Spaciousness`: the sum of `FirstFlrSF` and `SecondFlrSF` divided by `TotRmsAbvGrd`\n",
    "- `TotalOutsideSF`: the sum of `WoodDeckSF`, `OpenPorchSF`, `EnclosedPorch`, `Threeseasonporch`, and `ScreenPorch`"
   ]
  },
  {
   "cell_type": "code",
   "execution_count": 2,
   "id": "integrated-princeton",
   "metadata": {
    "execution": {
     "iopub.execute_input": "2021-05-14T12:53:12.884622Z",
     "iopub.status.busy": "2021-05-14T12:53:12.883927Z",
     "iopub.status.idle": "2021-05-14T12:53:12.918103Z",
     "shell.execute_reply": "2021-05-14T12:53:12.918597Z"
    },
    "lines_to_next_cell": 0,
    "papermill": {
     "duration": 0.057448,
     "end_time": "2021-05-14T12:53:12.918793",
     "exception": false,
     "start_time": "2021-05-14T12:53:12.861345",
     "status": "completed"
    },
    "tags": []
   },
   "outputs": [
    {
     "data": {
      "application/javascript": [
       "parent.postMessage({\"jupyterEvent\": \"custom.exercise_interaction\", \"data\": {\"outcomeType\": 1, \"valueTowardsCompletion\": 0.2, \"interactionType\": 1, \"questionType\": 2, \"questionId\": \"1_Q1\", \"learnToolsVersion\": \"0.3.4\", \"failureMessage\": \"\", \"exceptionClass\": \"\", \"trace\": \"\"}}, \"*\")"
      ],
      "text/plain": [
       "<IPython.core.display.Javascript object>"
      ]
     },
     "metadata": {},
     "output_type": "display_data"
    },
    {
     "data": {
      "text/markdown": [
       "<span style=\"color:#33cc33\">Correct</span>"
      ],
      "text/plain": [
       "Correct"
      ]
     },
     "metadata": {},
     "output_type": "display_data"
    }
   ],
   "source": [
    "# YOUR CODE HERE\n",
    "X_1 = pd.DataFrame()  # dataframe to hold new features\n",
    "\n",
    "X_1[\"LivLotRatio\"] = df.GrLivArea / df.LotArea\n",
    "X_1[\"Spaciousness\"] = (df.FirstFlrSF + df.SecondFlrSF) / df.TotRmsAbvGrd\n",
    "X_1[\"TotalOutsideSF\"] = df.WoodDeckSF + df.OpenPorchSF + df.EnclosedPorch + df.Threeseasonporch + df.ScreenPorch\n",
    "\n",
    "# Check your answer\n",
    "q_1.check()"
   ]
  },
  {
   "cell_type": "code",
   "execution_count": 3,
   "id": "nervous-orange",
   "metadata": {
    "execution": {
     "iopub.execute_input": "2021-05-14T12:53:12.958083Z",
     "iopub.status.busy": "2021-05-14T12:53:12.957050Z",
     "iopub.status.idle": "2021-05-14T12:53:12.960546Z",
     "shell.execute_reply": "2021-05-14T12:53:12.961029Z"
    },
    "lines_to_next_cell": 0,
    "papermill": {
     "duration": 0.025853,
     "end_time": "2021-05-14T12:53:12.961240",
     "exception": false,
     "start_time": "2021-05-14T12:53:12.935387",
     "status": "completed"
    },
    "tags": []
   },
   "outputs": [],
   "source": [
    "# Lines below will give you a hint or solution code\n",
    "#q_1.hint()\n",
    "#q_1.solution()"
   ]
  },
  {
   "cell_type": "markdown",
   "id": "dense-coordinate",
   "metadata": {
    "papermill": {
     "duration": 0.016063,
     "end_time": "2021-05-14T12:53:12.993749",
     "exception": false,
     "start_time": "2021-05-14T12:53:12.977686",
     "status": "completed"
    },
    "tags": []
   },
   "source": [
    "-------------------------------------------------------------------------------\n",
    "\n",
    "If you've discovered an interaction effect between a numeric feature and a categorical feature, you might want to model it explicitly using a one-hot encoding, like so:\n",
    "\n",
    "```\n",
    "# One-hot encode Categorical feature, adding a column prefix \"Cat\"\n",
    "X_new = pd.get_dummies(df.Categorical, prefix=\"Cat\")\n",
    "\n",
    "# Multiply row-by-row\n",
    "X_new = X_new.mul(df.Continuous, axis=0)\n",
    "\n",
    "# Join the new features to the feature set\n",
    "X = X.join(X_new)\n",
    "```\n",
    "\n",
    "# 2) Interaction with a Categorical\n",
    "\n",
    "We discovered an interaction between `BldgType` and `GrLivArea` in Exercise 2. Now create their interaction features."
   ]
  },
  {
   "cell_type": "code",
   "execution_count": 4,
   "id": "confirmed-instrument",
   "metadata": {
    "execution": {
     "iopub.execute_input": "2021-05-14T12:53:13.031202Z",
     "iopub.status.busy": "2021-05-14T12:53:13.030218Z",
     "iopub.status.idle": "2021-05-14T12:53:13.053144Z",
     "shell.execute_reply": "2021-05-14T12:53:13.053752Z"
    },
    "lines_to_next_cell": 0,
    "papermill": {
     "duration": 0.043763,
     "end_time": "2021-05-14T12:53:13.053969",
     "exception": false,
     "start_time": "2021-05-14T12:53:13.010206",
     "status": "completed"
    },
    "tags": []
   },
   "outputs": [
    {
     "data": {
      "application/javascript": [
       "parent.postMessage({\"jupyterEvent\": \"custom.exercise_interaction\", \"data\": {\"outcomeType\": 1, \"valueTowardsCompletion\": 0.2, \"interactionType\": 1, \"questionType\": 2, \"questionId\": \"2_Q2\", \"learnToolsVersion\": \"0.3.4\", \"failureMessage\": \"\", \"exceptionClass\": \"\", \"trace\": \"\"}}, \"*\")"
      ],
      "text/plain": [
       "<IPython.core.display.Javascript object>"
      ]
     },
     "metadata": {},
     "output_type": "display_data"
    },
    {
     "data": {
      "text/markdown": [
       "<span style=\"color:#33cc33\">Correct</span>"
      ],
      "text/plain": [
       "Correct"
      ]
     },
     "metadata": {},
     "output_type": "display_data"
    }
   ],
   "source": [
    "# YOUR CODE HERE\n",
    "# One-hot encode BldgType. Use `prefix=\"Bldg\"` in `get_dummies`\n",
    "X_2 = pd.get_dummies(df.BldgType, prefix=\"Bldg\")\n",
    "X_2 = X_2.mul(df.GrLivArea, axis=0)\n",
    "\n",
    "\n",
    "# Check your answer\n",
    "q_2.check()"
   ]
  },
  {
   "cell_type": "code",
   "execution_count": 5,
   "id": "serial-morgan",
   "metadata": {
    "execution": {
     "iopub.execute_input": "2021-05-14T12:53:13.094849Z",
     "iopub.status.busy": "2021-05-14T12:53:13.093852Z",
     "iopub.status.idle": "2021-05-14T12:53:13.098347Z",
     "shell.execute_reply": "2021-05-14T12:53:13.097688Z"
    },
    "lines_to_next_cell": 0,
    "papermill": {
     "duration": 0.026448,
     "end_time": "2021-05-14T12:53:13.098520",
     "exception": false,
     "start_time": "2021-05-14T12:53:13.072072",
     "status": "completed"
    },
    "tags": []
   },
   "outputs": [],
   "source": [
    "# Lines below will give you a hint or solution code\n",
    "#q_2.hint()\n",
    "#q_2.solution()"
   ]
  },
  {
   "cell_type": "markdown",
   "id": "heard-particle",
   "metadata": {
    "lines_to_next_cell": 0,
    "papermill": {
     "duration": 0.017497,
     "end_time": "2021-05-14T12:53:13.134110",
     "exception": false,
     "start_time": "2021-05-14T12:53:13.116613",
     "status": "completed"
    },
    "tags": []
   },
   "source": [
    "# 3) Count Feature\n",
    "\n",
    "Let's try creating a feature that describes how many kinds of outdoor areas a dwelling has. Create a feature `PorchTypes` that counts how many of the following are greater than 0.0:\n",
    "\n",
    "```\n",
    "WoodDeckSF\n",
    "OpenPorchSF\n",
    "EnclosedPorch\n",
    "Threeseasonporch\n",
    "ScreenPorch\n",
    "```"
   ]
  },
  {
   "cell_type": "code",
   "execution_count": 6,
   "id": "quiet-growing",
   "metadata": {
    "execution": {
     "iopub.execute_input": "2021-05-14T12:53:13.174681Z",
     "iopub.status.busy": "2021-05-14T12:53:13.173942Z",
     "iopub.status.idle": "2021-05-14T12:53:13.193624Z",
     "shell.execute_reply": "2021-05-14T12:53:13.193028Z"
    },
    "lines_to_next_cell": 0,
    "papermill": {
     "duration": 0.041175,
     "end_time": "2021-05-14T12:53:13.193791",
     "exception": false,
     "start_time": "2021-05-14T12:53:13.152616",
     "status": "completed"
    },
    "tags": []
   },
   "outputs": [
    {
     "data": {
      "application/javascript": [
       "parent.postMessage({\"jupyterEvent\": \"custom.exercise_interaction\", \"data\": {\"outcomeType\": 1, \"valueTowardsCompletion\": 0.2, \"interactionType\": 1, \"questionType\": 2, \"questionId\": \"3_Q3\", \"learnToolsVersion\": \"0.3.4\", \"failureMessage\": \"\", \"exceptionClass\": \"\", \"trace\": \"\"}}, \"*\")"
      ],
      "text/plain": [
       "<IPython.core.display.Javascript object>"
      ]
     },
     "metadata": {},
     "output_type": "display_data"
    },
    {
     "data": {
      "text/markdown": [
       "<span style=\"color:#33cc33\">Correct</span>"
      ],
      "text/plain": [
       "Correct"
      ]
     },
     "metadata": {},
     "output_type": "display_data"
    }
   ],
   "source": [
    "X_3 = pd.DataFrame()\n",
    "\n",
    "# YOUR CODE HERE\n",
    "X_3[\"PorchTypes\"] = df[[\n",
    "    \"WoodDeckSF\",\n",
    "    \"OpenPorchSF\",\n",
    "    \"EnclosedPorch\",\n",
    "    \"Threeseasonporch\",\n",
    "    \"ScreenPorch\",\n",
    "]].gt(0.0).sum(axis=1)\n",
    "\n",
    "# Check your answer\n",
    "q_3.check()"
   ]
  },
  {
   "cell_type": "code",
   "execution_count": 7,
   "id": "turkish-yahoo",
   "metadata": {
    "execution": {
     "iopub.execute_input": "2021-05-14T12:53:13.236626Z",
     "iopub.status.busy": "2021-05-14T12:53:13.235925Z",
     "iopub.status.idle": "2021-05-14T12:53:13.238614Z",
     "shell.execute_reply": "2021-05-14T12:53:13.239069Z"
    },
    "lines_to_next_cell": 0,
    "papermill": {
     "duration": 0.026393,
     "end_time": "2021-05-14T12:53:13.239263",
     "exception": false,
     "start_time": "2021-05-14T12:53:13.212870",
     "status": "completed"
    },
    "tags": []
   },
   "outputs": [],
   "source": [
    "# Lines below will give you a hint or solution code\n",
    "#q_3.hint()\n",
    "#q_3.solution()"
   ]
  },
  {
   "cell_type": "markdown",
   "id": "cheap-dynamics",
   "metadata": {
    "papermill": {
     "duration": 0.018399,
     "end_time": "2021-05-14T12:53:13.276781",
     "exception": false,
     "start_time": "2021-05-14T12:53:13.258382",
     "status": "completed"
    },
    "tags": []
   },
   "source": [
    "# 4) Break Down a Categorical Feature\n",
    "\n",
    "`MSSubClass` describes the type of a dwelling:"
   ]
  },
  {
   "cell_type": "code",
   "execution_count": 8,
   "id": "plain-enemy",
   "metadata": {
    "execution": {
     "iopub.execute_input": "2021-05-14T12:53:13.322441Z",
     "iopub.status.busy": "2021-05-14T12:53:13.321702Z",
     "iopub.status.idle": "2021-05-14T12:53:13.328052Z",
     "shell.execute_reply": "2021-05-14T12:53:13.326956Z"
    },
    "papermill": {
     "duration": 0.032565,
     "end_time": "2021-05-14T12:53:13.328295",
     "exception": false,
     "start_time": "2021-05-14T12:53:13.295730",
     "status": "completed"
    },
    "tags": []
   },
   "outputs": [
    {
     "data": {
      "text/plain": [
       "array(['One_Story_1946_and_Newer_All_Styles', 'Two_Story_1946_and_Newer',\n",
       "       'One_Story_PUD_1946_and_Newer',\n",
       "       'One_and_Half_Story_Finished_All_Ages', 'Split_Foyer',\n",
       "       'Two_Story_PUD_1946_and_Newer', 'Split_or_Multilevel',\n",
       "       'One_Story_1945_and_Older', 'Duplex_All_Styles_and_Ages',\n",
       "       'Two_Family_conversion_All_Styles_and_Ages',\n",
       "       'One_and_Half_Story_Unfinished_All_Ages',\n",
       "       'Two_Story_1945_and_Older', 'Two_and_Half_Story_All_Ages',\n",
       "       'One_Story_with_Finished_Attic_All_Ages',\n",
       "       'PUD_Multilevel_Split_Level_Foyer',\n",
       "       'One_and_Half_Story_PUD_All_Ages'], dtype=object)"
      ]
     },
     "execution_count": 8,
     "metadata": {},
     "output_type": "execute_result"
    }
   ],
   "source": [
    "df.MSSubClass.unique()"
   ]
  },
  {
   "cell_type": "markdown",
   "id": "isolated-stuart",
   "metadata": {
    "papermill": {
     "duration": 0.018978,
     "end_time": "2021-05-14T12:53:13.367022",
     "exception": false,
     "start_time": "2021-05-14T12:53:13.348044",
     "status": "completed"
    },
    "tags": []
   },
   "source": [
    "You can see that there is a more general categorization described (roughly) by the first word of each category. Create a feature containing only these first words by splitting `MSSubClass` at the first underscore `_`. (Hint: In the `split` method use an argument `n=1`.)"
   ]
  },
  {
   "cell_type": "code",
   "execution_count": 9,
   "id": "elegant-rating",
   "metadata": {
    "execution": {
     "iopub.execute_input": "2021-05-14T12:53:13.435919Z",
     "iopub.status.busy": "2021-05-14T12:53:13.434834Z",
     "iopub.status.idle": "2021-05-14T12:53:13.442214Z",
     "shell.execute_reply": "2021-05-14T12:53:13.441542Z"
    },
    "lines_to_next_cell": 0,
    "papermill": {
     "duration": 0.05462,
     "end_time": "2021-05-14T12:53:13.442371",
     "exception": false,
     "start_time": "2021-05-14T12:53:13.387751",
     "status": "completed"
    },
    "tags": []
   },
   "outputs": [
    {
     "data": {
      "application/javascript": [
       "parent.postMessage({\"jupyterEvent\": \"custom.exercise_interaction\", \"data\": {\"outcomeType\": 1, \"valueTowardsCompletion\": 0.2, \"interactionType\": 1, \"questionType\": 2, \"questionId\": \"4_Q4\", \"learnToolsVersion\": \"0.3.4\", \"failureMessage\": \"\", \"exceptionClass\": \"\", \"trace\": \"\"}}, \"*\")"
      ],
      "text/plain": [
       "<IPython.core.display.Javascript object>"
      ]
     },
     "metadata": {},
     "output_type": "display_data"
    },
    {
     "data": {
      "text/markdown": [
       "<span style=\"color:#33cc33\">Correct</span>"
      ],
      "text/plain": [
       "Correct"
      ]
     },
     "metadata": {},
     "output_type": "display_data"
    }
   ],
   "source": [
    "X_4 = pd.DataFrame()\n",
    "\n",
    "# YOUR CODE HERE\n",
    "X_4 = pd.DataFrame()\n",
    "\n",
    "X_4[\"MSClass\"] = df.MSSubClass.str.split(\"_\", n=1, expand=True)[0]\n",
    "# Check your answer\n",
    "q_4.check()"
   ]
  },
  {
   "cell_type": "code",
   "execution_count": 10,
   "id": "smaller-kitchen",
   "metadata": {
    "execution": {
     "iopub.execute_input": "2021-05-14T12:53:13.489391Z",
     "iopub.status.busy": "2021-05-14T12:53:13.488215Z",
     "iopub.status.idle": "2021-05-14T12:53:13.491632Z",
     "shell.execute_reply": "2021-05-14T12:53:13.492127Z"
    },
    "lines_to_next_cell": 0,
    "papermill": {
     "duration": 0.029413,
     "end_time": "2021-05-14T12:53:13.492339",
     "exception": false,
     "start_time": "2021-05-14T12:53:13.462926",
     "status": "completed"
    },
    "tags": []
   },
   "outputs": [],
   "source": [
    "# Lines below will give you a hint or solution code\n",
    "#q_4.hint()\n",
    "#q_4.solution()"
   ]
  },
  {
   "cell_type": "markdown",
   "id": "recreational-boutique",
   "metadata": {
    "papermill": {
     "duration": 0.020188,
     "end_time": "2021-05-14T12:53:13.533265",
     "exception": false,
     "start_time": "2021-05-14T12:53:13.513077",
     "status": "completed"
    },
    "tags": []
   },
   "source": [
    "# 5) Use a Grouped Transform\n",
    "\n",
    "The value of a home often depends on how it compares to typical homes in its neighborhood. Create a feature `MedNhbdArea` that describes the *median* of `GrLivArea` grouped on `Neighborhood`."
   ]
  },
  {
   "cell_type": "code",
   "execution_count": 11,
   "id": "regional-affair",
   "metadata": {
    "execution": {
     "iopub.execute_input": "2021-05-14T12:53:13.588580Z",
     "iopub.status.busy": "2021-05-14T12:53:13.584842Z",
     "iopub.status.idle": "2021-05-14T12:53:13.598138Z",
     "shell.execute_reply": "2021-05-14T12:53:13.597603Z"
    },
    "lines_to_next_cell": 0,
    "papermill": {
     "duration": 0.044318,
     "end_time": "2021-05-14T12:53:13.598300",
     "exception": false,
     "start_time": "2021-05-14T12:53:13.553982",
     "status": "completed"
    },
    "tags": []
   },
   "outputs": [
    {
     "data": {
      "application/javascript": [
       "parent.postMessage({\"jupyterEvent\": \"custom.exercise_interaction\", \"data\": {\"outcomeType\": 1, \"valueTowardsCompletion\": 0.2, \"interactionType\": 1, \"questionType\": 2, \"questionId\": \"5_Q5\", \"learnToolsVersion\": \"0.3.4\", \"failureMessage\": \"\", \"exceptionClass\": \"\", \"trace\": \"\"}}, \"*\")"
      ],
      "text/plain": [
       "<IPython.core.display.Javascript object>"
      ]
     },
     "metadata": {},
     "output_type": "display_data"
    },
    {
     "data": {
      "text/markdown": [
       "<span style=\"color:#33cc33\">Correct</span>"
      ],
      "text/plain": [
       "Correct"
      ]
     },
     "metadata": {},
     "output_type": "display_data"
    }
   ],
   "source": [
    "X_5 = pd.DataFrame()\n",
    "\n",
    "# YOUR CODE HERE\n",
    "X_5[\"MedNhbdArea\"] = df.groupby(\"Neighborhood\")[\"GrLivArea\"].transform(\"median\")\n",
    "\n",
    "\n",
    "# Check your answer\n",
    "q_5.check()"
   ]
  },
  {
   "cell_type": "code",
   "execution_count": 12,
   "id": "american-isolation",
   "metadata": {
    "execution": {
     "iopub.execute_input": "2021-05-14T12:53:13.648105Z",
     "iopub.status.busy": "2021-05-14T12:53:13.647375Z",
     "iopub.status.idle": "2021-05-14T12:53:13.649473Z",
     "shell.execute_reply": "2021-05-14T12:53:13.649994Z"
    },
    "lines_to_next_cell": 0,
    "papermill": {
     "duration": 0.029422,
     "end_time": "2021-05-14T12:53:13.650187",
     "exception": false,
     "start_time": "2021-05-14T12:53:13.620765",
     "status": "completed"
    },
    "tags": []
   },
   "outputs": [],
   "source": [
    "# Lines below will give you a hint or solution code\n",
    "#q_5.hint()\n",
    "#q_5.solution()"
   ]
  },
  {
   "cell_type": "markdown",
   "id": "assured-finance",
   "metadata": {
    "papermill": {
     "duration": 0.021514,
     "end_time": "2021-05-14T12:53:13.694569",
     "exception": false,
     "start_time": "2021-05-14T12:53:13.673055",
     "status": "completed"
    },
    "tags": []
   },
   "source": [
    "Now you've made your first new feature set! If you like, you can run the cell below to score the model with all of your new features added:"
   ]
  },
  {
   "cell_type": "code",
   "execution_count": 13,
   "id": "growing-bedroom",
   "metadata": {
    "execution": {
     "iopub.execute_input": "2021-05-14T12:53:13.742152Z",
     "iopub.status.busy": "2021-05-14T12:53:13.741482Z",
     "iopub.status.idle": "2021-05-14T12:53:17.905225Z",
     "shell.execute_reply": "2021-05-14T12:53:17.905831Z"
    },
    "papermill": {
     "duration": 4.189497,
     "end_time": "2021-05-14T12:53:17.906087",
     "exception": false,
     "start_time": "2021-05-14T12:53:13.716590",
     "status": "completed"
    },
    "tags": []
   },
   "outputs": [
    {
     "data": {
      "text/plain": [
       "0.13847331710099203"
      ]
     },
     "execution_count": 13,
     "metadata": {},
     "output_type": "execute_result"
    }
   ],
   "source": [
    "X_new = X.join([X_1, X_2, X_3, X_4, X_5])\n",
    "score_dataset(X_new, y)"
   ]
  },
  {
   "cell_type": "markdown",
   "id": "furnished-object",
   "metadata": {
    "papermill": {
     "duration": 0.021978,
     "end_time": "2021-05-14T12:53:17.952107",
     "exception": false,
     "start_time": "2021-05-14T12:53:17.930129",
     "status": "completed"
    },
    "tags": []
   },
   "source": [
    "# Keep Going #\n",
    "\n",
    "[**Untangle spatial relationships**](https://www.kaggle.com/ryanholbrook/clustering-with-k-means) by adding cluster labels to your dataset."
   ]
  },
  {
   "cell_type": "markdown",
   "id": "seventh-stereo",
   "metadata": {
    "papermill": {
     "duration": 0.022178,
     "end_time": "2021-05-14T12:53:17.996720",
     "exception": false,
     "start_time": "2021-05-14T12:53:17.974542",
     "status": "completed"
    },
    "tags": []
   },
   "source": [
    "---\n",
    "\n",
    "\n",
    "\n",
    "\n",
    "*Have questions or comments? Visit the [Learn Discussion forum](https://www.kaggle.com/learn-forum/221677) to chat with other Learners.*"
   ]
  }
 ],
 "metadata": {
  "kernelspec": {
   "display_name": "Python 3",
   "language": "python",
   "name": "python3"
  },
  "language_info": {
   "codemirror_mode": {
    "name": "ipython",
    "version": 3
   },
   "file_extension": ".py",
   "mimetype": "text/x-python",
   "name": "python",
   "nbconvert_exporter": "python",
   "pygments_lexer": "ipython3",
   "version": "3.7.9"
  },
  "papermill": {
   "default_parameters": {},
   "duration": 14.519565,
   "end_time": "2021-05-14T12:53:18.932835",
   "environment_variables": {},
   "exception": null,
   "input_path": "__notebook__.ipynb",
   "output_path": "__notebook__.ipynb",
   "parameters": {},
   "start_time": "2021-05-14T12:53:04.413270",
   "version": "2.3.2"
  }
 },
 "nbformat": 4,
 "nbformat_minor": 5
}
